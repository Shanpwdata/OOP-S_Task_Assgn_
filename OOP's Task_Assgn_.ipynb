{
 "cells": [
  {
   "cell_type": "markdown",
   "id": "91cc4c6e-dabb-4e5b-bf4f-89ab929d5308",
   "metadata": {},
   "source": [
    "Q1, Create a vehicle class with an init method having instance variables as name_of_vehicle, max_speed\n",
    "and average_of_vehicle."
   ]
  },
  {
   "cell_type": "code",
   "execution_count": null,
   "id": "142a7674-4745-4b6e-a830-be092cf7c253",
   "metadata": {},
   "outputs": [],
   "source": [
    "#Ans_1.\n",
    "class vehicle :\n",
    "    def __init__(self, name_of_vehicle, max_speed, average_of_vehicle):\n",
    "        self.name_of_vehicle = name_of_vehicle\n",
    "        self.max_speed = max_speed\n",
    "        self.average_of_vehicle = average_of_vehicle"
   ]
  },
  {
   "cell_type": "code",
   "execution_count": null,
   "id": "c34c3875-254c-4e5a-be7d-547d26d188e1",
   "metadata": {},
   "outputs": [],
   "source": [
    "car = Vehicle(\"Maruti\", 200, 30)"
   ]
  },
  {
   "cell_type": "markdown",
   "id": "933225fb-305d-4737-b72d-addce4cdb321",
   "metadata": {},
   "source": [
    "Q2. Create a child class car from the vehicle class created in Que 1, which will inherit the vehicle class.\n",
    "Create a method named seating_capacity which takes capacity as an argument and returns the name of\n",
    "the vehicle and its seating capacity."
   ]
  },
  {
   "cell_type": "code",
   "execution_count": null,
   "id": "9fb5664f-567f-4346-850a-93432d4b540a",
   "metadata": {},
   "outputs": [],
   "source": [
    "#Ans_2.\n",
    "class Car(vehicle):\n",
    "    \n",
    "    def seating_capacity(self, capacity):\n",
    "        self.capacity = capacity\n",
    "        return self.name_of_vehicle, self.capacity"
   ]
  },
  {
   "cell_type": "code",
   "execution_count": null,
   "id": "5cb21c59-4e5e-45b6-80c4-40bc5c048bf7",
   "metadata": {},
   "outputs": [],
   "source": [
    "car1 = Car(\"Maruti\", 200, 60)"
   ]
  },
  {
   "cell_type": "code",
   "execution_count": null,
   "id": "1766076d-50a1-48ca-8989-c527da95d5ed",
   "metadata": {},
   "outputs": [],
   "source": [
    "car1.seating_capacity(7)"
   ]
  },
  {
   "cell_type": "markdown",
   "id": "3585ab36-ec3c-4828-8686-e55b33cc9ffb",
   "metadata": {},
   "source": [
    "Q3. What is multiple inheritance? Write a python code to demonstrate multiple inheritance."
   ]
  },
  {
   "cell_type": "markdown",
   "id": "0f902d12-0a46-4057-9b0a-f94a779fd903",
   "metadata": {},
   "source": [
    "#Ans_3.\n",
    "multiple inheritance is where a class can inherit attributes and methods from multiple parent classes."
   ]
  },
  {
   "cell_type": "code",
   "execution_count": 5,
   "id": "364cfd0f-cd0d-4b20-b587-652cf41d3243",
   "metadata": {},
   "outputs": [],
   "source": [
    "#Example:-\n",
    "class class1:\n",
    "    \n",
    "    def test_class1(self):\n",
    "        return \"This is class1\"\n",
    "    \n",
    "class class2:\n",
    "    \n",
    "    def test_class2(self):\n",
    "        return \"This is class2\"\n",
    "    \n",
    "class class3(class1,class2):\n",
    "    \n",
    "    pass"
   ]
  },
  {
   "cell_type": "code",
   "execution_count": 11,
   "id": "f967591d-4bb9-4345-88b6-17ef4d1e1616",
   "metadata": {},
   "outputs": [],
   "source": [
    "obj_class3 = class3()"
   ]
  },
  {
   "cell_type": "code",
   "execution_count": 13,
   "id": "447c5645-c47d-4bd3-9874-ca9966149054",
   "metadata": {},
   "outputs": [
    {
     "data": {
      "text/plain": [
       "'This is class1'"
      ]
     },
     "execution_count": 13,
     "metadata": {},
     "output_type": "execute_result"
    }
   ],
   "source": [
    "obj_class3.test_class1()"
   ]
  },
  {
   "cell_type": "code",
   "execution_count": 14,
   "id": "0593ba85-b124-4cb0-9437-59954e05b566",
   "metadata": {},
   "outputs": [
    {
     "data": {
      "text/plain": [
       "'This is class2'"
      ]
     },
     "execution_count": 14,
     "metadata": {},
     "output_type": "execute_result"
    }
   ],
   "source": [
    "obj_class3.test_class2()"
   ]
  },
  {
   "cell_type": "markdown",
   "id": "c1ef4b87-fc2a-46e8-b352-7363b6958dd2",
   "metadata": {},
   "source": [
    "Q4. What are getter and setter in python? Create a class and create a getter and a setter method in this\n",
    "class."
   ]
  },
  {
   "cell_type": "markdown",
   "id": "3ee1044a-f88e-4940-8e47-50fa5a26db20",
   "metadata": {},
   "source": [
    "#Ans_4.\n",
    "getters and setters are methods used to get and set the values of instance variables (attributes) in a class."
   ]
  },
  {
   "cell_type": "code",
   "execution_count": 15,
   "id": "4de97020-c060-485a-a1c5-3f3167650da8",
   "metadata": {},
   "outputs": [],
   "source": [
    "#Example:-\n",
    "class pwskills:\n",
    "    \n",
    "    def __init__(self, course_price, course_name):\n",
    "        self.__course_price = course_price\n",
    "        self.course_name = course_name\n",
    "        \n",
    "        \n",
    "    @property\n",
    "    def course_price_access(self):\n",
    "        return self.__course_price\n",
    "    \n",
    "    @course_price_access.setter\n",
    "    def course_price_set(self, price):\n",
    "        if price <= 3500:\n",
    "            pass\n",
    "        else :\n",
    "            self.__course_price = price\n",
    "    \n",
    "    @course_price_access.getter\n",
    "    def course_price_get(self):\n",
    "        return self.__course_price"
   ]
  },
  {
   "cell_type": "code",
   "execution_count": 17,
   "id": "d1184e6f-ac6d-47fa-9274-9b931173c4c2",
   "metadata": {},
   "outputs": [],
   "source": [
    "pw = pwskills(3500, \"data science masters\")"
   ]
  },
  {
   "cell_type": "code",
   "execution_count": 18,
   "id": "9e11a5fb-03fd-4d59-9da9-312301db1d13",
   "metadata": {},
   "outputs": [
    {
     "data": {
      "text/plain": [
       "3500"
      ]
     },
     "execution_count": 18,
     "metadata": {},
     "output_type": "execute_result"
    }
   ],
   "source": [
    "pw.course_price_get"
   ]
  },
  {
   "cell_type": "code",
   "execution_count": 19,
   "id": "683c8881-f403-4759-9257-06adaf9977d8",
   "metadata": {},
   "outputs": [],
   "source": [
    "pw.course_price_set = 4500"
   ]
  },
  {
   "cell_type": "code",
   "execution_count": 20,
   "id": "0c92cfb1-cfb0-41c3-a13b-110350cac166",
   "metadata": {},
   "outputs": [
    {
     "data": {
      "text/plain": [
       "4500"
      ]
     },
     "execution_count": 20,
     "metadata": {},
     "output_type": "execute_result"
    }
   ],
   "source": [
    "pw.course_price_get"
   ]
  },
  {
   "cell_type": "markdown",
   "id": "f264bd6e-78af-4b74-a397-7d0c81d491f3",
   "metadata": {},
   "source": [
    "Q5.What is method overriding in python? Write a python code to demonstrate method overriding."
   ]
  },
  {
   "cell_type": "markdown",
   "id": "56064f62-1c08-45cc-8df9-522999bd0670",
   "metadata": {},
   "source": [
    "#Ans_5. \n",
    "overriding is where a subclass provides a different implementation of a method that is already defined in its parent class."
   ]
  },
  {
   "cell_type": "code",
   "execution_count": 21,
   "id": "c9d1aa14-4c5e-4735-9cfd-595daad81d62",
   "metadata": {},
   "outputs": [],
   "source": [
    "#Example:-\n",
    "class dog:\n",
    "    def sound(self):\n",
    "        print(\"dog barks booo - boo\")\n",
    "class cat:\n",
    "    def sound (self):\n",
    "        print(\"cat says mewo - mewo\")\n",
    "class birds:\n",
    "    def sound(self):\n",
    "        print(\"birds says tweet - tweet\")"
   ]
  },
  {
   "cell_type": "code",
   "execution_count": 22,
   "id": "b387538b-ec03-4248-8b7f-a3eef58ebf09",
   "metadata": {},
   "outputs": [],
   "source": [
    "dog = dog()\n",
    "cat = cat()\n",
    "birds = birds()"
   ]
  },
  {
   "cell_type": "code",
   "execution_count": 24,
   "id": "0c4567fa-882a-476f-8512-9b72b96180ef",
   "metadata": {},
   "outputs": [
    {
     "name": "stdout",
     "output_type": "stream",
     "text": [
      "birds says tweet - tweet\n"
     ]
    }
   ],
   "source": [
    "birds.sound()"
   ]
  },
  {
   "cell_type": "code",
   "execution_count": null,
   "id": "4305bff5-35cc-4aa8-97c2-ca19cd454ad0",
   "metadata": {},
   "outputs": [],
   "source": []
  }
 ],
 "metadata": {
  "kernelspec": {
   "display_name": "Python 3 (ipykernel)",
   "language": "python",
   "name": "python3"
  },
  "language_info": {
   "codemirror_mode": {
    "name": "ipython",
    "version": 3
   },
   "file_extension": ".py",
   "mimetype": "text/x-python",
   "name": "python",
   "nbconvert_exporter": "python",
   "pygments_lexer": "ipython3",
   "version": "3.10.8"
  }
 },
 "nbformat": 4,
 "nbformat_minor": 5
}
